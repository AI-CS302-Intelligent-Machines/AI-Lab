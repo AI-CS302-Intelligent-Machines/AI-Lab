{
  "nbformat": 4,
  "nbformat_minor": 0,
  "metadata": {
    "colab": {
      "provenance": []
    },
    "kernelspec": {
      "name": "python3",
      "display_name": "Python 3"
    },
    "language_info": {
      "name": "python"
    }
  },
  "cells": [
    {
      "cell_type": "code",
      "execution_count": 1,
      "metadata": {
        "id": "lvb5zAyWNaQt"
      },
      "outputs": [],
      "source": [
        "import random"
      ]
    },
    {
      "cell_type": "code",
      "source": [
        "# here 0 = blank space\n",
        "GOAL_STATE =  [[1,2,3],[4,5,6],[7,8,0]]\n",
        "#This function generates a random state by performing 100 random moves from the goal state.\n",
        "def generate_random_state():\n",
        "  current_state = GOAL_STATE\n",
        "  for i in range(100):\n",
        "    possible_moves = get_possible_moves(current_state)\n",
        "    random_move = random.choice(possible_moves)\n",
        "    current_state = perform_move(current_state,random_move)\n",
        "  return current_state"
      ],
      "metadata": {
        "id": "dLBFQCKaNkI5"
      },
      "execution_count": 2,
      "outputs": []
    },
    {
      "cell_type": "code",
      "source": [
        "# This function return list of possible moves from the current state\n",
        "def get_possible_moves(state):\n",
        "  #Ge a list of possible moves from the current state\n",
        "  possible_moves = []\n",
        "  for i in range(3):\n",
        "    for j in range(3):\n",
        "      if state[i][j] == 0:\n",
        "        if i>0:\n",
        "          possible_moves.append((i-1,j))\n",
        "          if i <2:\n",
        "            possible_moves.append((i+1,j))\n",
        "          if j >0:\n",
        "            possible_moves.append((i,j-1))\n",
        "          if j <2:\n",
        "            possible_moves.append((i,j+1))\n",
        "  return possible_moves"
      ],
      "metadata": {
        "id": "44IYMY07OD8S"
      },
      "execution_count": 4,
      "outputs": []
    },
    {
      "cell_type": "code",
      "source": [
        "#This function performs a move on the current state\n",
        "def perform_move(state,move):\n",
        "  i,j = movesnew_state = [row[:] for row in state]\n",
        "  new_state[i][j], new_state[move[0]][move[1]] = new_state[move[0]][move[1]], new_state[i][j]\n",
        "  return new_state"
      ],
      "metadata": {
        "id": "QwePUq9YOs28"
      },
      "execution_count": 5,
      "outputs": []
    },
    {
      "cell_type": "code",
      "source": [
        "#This function checks if current state is goal state\n",
        "def is_goal_state(state):\n",
        "  #Check if the current state is teh goal state\n",
        "  return state == GOAL_STATE"
      ],
      "metadata": {
        "id": "wGMb-zqgPJJA"
      },
      "execution_count": 6,
      "outputs": []
    },
    {
      "cell_type": "code",
      "source": [
        "#This functiono calculates the Manhattan distance heuristic for the current state.\n",
        "def manhattan_distance(state):\n",
        "  #Calculate the Manhattan distance heuristic\n",
        "  distance = 0\n",
        "  for i in range(3):\n",
        "    for j in range(3):\n",
        "      if state[i][j] != 0 :\n",
        "        row = (state[i][j] -1 )//3\n",
        "        col = (state[i][j] -1 )%3\n",
        "        distance += abs(row - i) + abs(col-j)\n",
        "  return distance\n"
      ],
      "metadata": {
        "id": "bgx7pb2WPRYc"
      },
      "execution_count": 8,
      "outputs": []
    },
    {
      "cell_type": "code",
      "source": [],
      "metadata": {
        "id": "uknaO0ZMPsef"
      },
      "execution_count": null,
      "outputs": []
    }
  ]
}