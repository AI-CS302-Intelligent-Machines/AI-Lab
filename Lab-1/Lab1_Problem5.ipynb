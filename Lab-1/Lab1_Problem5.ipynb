{
  "nbformat": 4,
  "nbformat_minor": 0,
  "metadata": {
    "colab": {
      "provenance": []
    },
    "kernelspec": {
      "name": "python3",
      "display_name": "Python 3"
    },
    "language_info": {
      "name": "python"
    }
  },
  "cells": [
    {
      "cell_type": "code",
      "execution_count": 1,
      "metadata": {
        "id": "tS1XGrBZdtkw"
      },
      "outputs": [],
      "source": [
        "import random"
      ]
    },
    {
      "cell_type": "code",
      "source": [
        "def generate_puzzle_8_depth_d(d):\n",
        "  goal_state = [0,1,2,3,45,6,7,8]\n",
        "  current_state = goal_state.copy()\n",
        "\n",
        "  for depth in range(d+1):\n",
        "    result , current_state = perform_depth_limited_search(current_state,goal_state,depth)\n",
        "    if result ==\"found\":\n",
        "      return current_state\n",
        "\n",
        "  return None"
      ],
      "metadata": {
        "id": "dgAZgIW9d02T"
      },
      "execution_count": 2,
      "outputs": []
    },
    {
      "cell_type": "code",
      "source": [
        "def perform_depth_limited_search(current_state,goal_state,depth_limit):\n",
        "  if current_state == goal_state:\n",
        "    return \"found\", current_state\n",
        "\n",
        "  if depth_limit ==0:\n",
        "    return \"not found\", current_state\n",
        "\n",
        "  moves = get_possible_moves(current_state)\n",
        "  random.shuffle(moves)\n",
        "\n",
        "  for move in moves :\n",
        "    new_state = perform_move(current_state,move)\n",
        "    result, final_state = perform_depth_limited_search(new_state,goal_state,depth_limit -1)\n",
        "    if result == \"found\" :\n",
        "      return \"found\", final_state\n",
        "    return \"not_found\",current_state\n",
        "    "
      ],
      "metadata": {
        "id": "1mPQ8y0VeWnt"
      },
      "execution_count": 3,
      "outputs": []
    },
    {
      "cell_type": "code",
      "source": [],
      "metadata": {
        "id": "b_mJJ2tqfUE2"
      },
      "execution_count": null,
      "outputs": []
    }
  ]
}