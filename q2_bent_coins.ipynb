{
  "nbformat": 4,
  "nbformat_minor": 0,
  "metadata": {
    "colab": {
      "provenance": []
    },
    "kernelspec": {
      "name": "python3",
      "display_name": "Python 3"
    },
    "language_info": {
      "name": "python"
    }
  },
  "cells": [
    {
      "cell_type": "code",
      "source": [
        "from google.colab import drive\n",
        "drive.mount('/content/drive')"
      ],
      "metadata": {
        "colab": {
          "base_uri": "https://localhost:8080/"
        },
        "id": "BzYKL5aoDxM1",
        "outputId": "46ad2fc2-f6d6-469d-def3-1e59ccdf2e70"
      },
      "execution_count": null,
      "outputs": [
        {
          "output_type": "stream",
          "name": "stdout",
          "text": [
            "Mounted at /content/drive\n"
          ]
        }
      ]
    },
    {
      "cell_type": "code",
      "source": [
        "import pandas as pd\n",
        "import numpy as np\n",
        "from scipy.special import comb"
      ],
      "metadata": {
        "id": "jDFmw4WACyt1"
      },
      "execution_count": null,
      "outputs": []
    },
    {
      "cell_type": "code",
      "source": [
        "df = pd.read_csv('/content/drive/MyDrive/Classroom/2020_ten_bent_coins.csv').transpose()"
      ],
      "metadata": {
        "id": "c72NyD2fECGB"
      },
      "execution_count": null,
      "outputs": []
    },
    {
      "cell_type": "code",
      "source": [
        "df"
      ],
      "metadata": {
        "colab": {
          "base_uri": "https://localhost:8080/",
          "height": 424
        },
        "id": "0Z1npZtIEGqg",
        "outputId": "c263bc26-5d52-4c83-ec0c-e10651c2da92"
      },
      "execution_count": null,
      "outputs": [
        {
          "output_type": "execute_result",
          "data": {
            "text/plain": [
              "     0    1    2    3    4    5    6    7    8    9    ...  490  491  492  \\\n",
              "1      1    0    1    0    1    1    0    1    1    0  ...    0    0    1   \n",
              "2      1    0    0    0    0    1    0    0    1    0  ...    1    1    1   \n",
              "3      1    0    1    0    0    1    0    0    1    0  ...    0    1    0   \n",
              "4      1    0    1    0    1    1    0    1    0    0  ...    1    0    1   \n",
              "5      1    0    0    0    0    1    1    0    0    0  ...    0    1    0   \n",
              "..   ...  ...  ...  ...  ...  ...  ...  ...  ...  ...  ...  ...  ...  ...   \n",
              "96     1    0    0    0    0    1    1    0    0    1  ...    1    1    1   \n",
              "97     1    1    1    0    1    1    0    0    0    0  ...    1    1    1   \n",
              "98     1    0    1    0    1    0    1    0    1    0  ...    1    1    1   \n",
              "99     1    0    0    1    1    1    0    0    0    0  ...    1    1    1   \n",
              "100    1    0    0    0    1    1    1    0    0    0  ...    1    1    0   \n",
              "\n",
              "     493  494  495  496  497  498  499  \n",
              "1      0    1    0    0    1    0    1  \n",
              "2      0    0    0    0    1    1    0  \n",
              "3      0    0    1    0    0    0    1  \n",
              "4      0    1    0    0    1    0    0  \n",
              "5      0    0    1    0    1    0    0  \n",
              "..   ...  ...  ...  ...  ...  ...  ...  \n",
              "96     0    0    0    0    0    0    0  \n",
              "97     0    1    1    0    1    0    0  \n",
              "98     0    1    0    0    0    0    1  \n",
              "99     0    0    1    0    1    1    0  \n",
              "100    1    1    0    0    1    1    0  \n",
              "\n",
              "[100 rows x 500 columns]"
            ],
            "text/html": [
              "\n",
              "  <div id=\"df-e5f20644-4b9f-4bc4-9d7b-26b1a2c76391\">\n",
              "    <div class=\"colab-df-container\">\n",
              "      <div>\n",
              "<style scoped>\n",
              "    .dataframe tbody tr th:only-of-type {\n",
              "        vertical-align: middle;\n",
              "    }\n",
              "\n",
              "    .dataframe tbody tr th {\n",
              "        vertical-align: top;\n",
              "    }\n",
              "\n",
              "    .dataframe thead th {\n",
              "        text-align: right;\n",
              "    }\n",
              "</style>\n",
              "<table border=\"1\" class=\"dataframe\">\n",
              "  <thead>\n",
              "    <tr style=\"text-align: right;\">\n",
              "      <th></th>\n",
              "      <th>0</th>\n",
              "      <th>1</th>\n",
              "      <th>2</th>\n",
              "      <th>3</th>\n",
              "      <th>4</th>\n",
              "      <th>5</th>\n",
              "      <th>6</th>\n",
              "      <th>7</th>\n",
              "      <th>8</th>\n",
              "      <th>9</th>\n",
              "      <th>...</th>\n",
              "      <th>490</th>\n",
              "      <th>491</th>\n",
              "      <th>492</th>\n",
              "      <th>493</th>\n",
              "      <th>494</th>\n",
              "      <th>495</th>\n",
              "      <th>496</th>\n",
              "      <th>497</th>\n",
              "      <th>498</th>\n",
              "      <th>499</th>\n",
              "    </tr>\n",
              "  </thead>\n",
              "  <tbody>\n",
              "    <tr>\n",
              "      <th>1</th>\n",
              "      <td>1</td>\n",
              "      <td>0</td>\n",
              "      <td>1</td>\n",
              "      <td>0</td>\n",
              "      <td>1</td>\n",
              "      <td>1</td>\n",
              "      <td>0</td>\n",
              "      <td>1</td>\n",
              "      <td>1</td>\n",
              "      <td>0</td>\n",
              "      <td>...</td>\n",
              "      <td>0</td>\n",
              "      <td>0</td>\n",
              "      <td>1</td>\n",
              "      <td>0</td>\n",
              "      <td>1</td>\n",
              "      <td>0</td>\n",
              "      <td>0</td>\n",
              "      <td>1</td>\n",
              "      <td>0</td>\n",
              "      <td>1</td>\n",
              "    </tr>\n",
              "    <tr>\n",
              "      <th>2</th>\n",
              "      <td>1</td>\n",
              "      <td>0</td>\n",
              "      <td>0</td>\n",
              "      <td>0</td>\n",
              "      <td>0</td>\n",
              "      <td>1</td>\n",
              "      <td>0</td>\n",
              "      <td>0</td>\n",
              "      <td>1</td>\n",
              "      <td>0</td>\n",
              "      <td>...</td>\n",
              "      <td>1</td>\n",
              "      <td>1</td>\n",
              "      <td>1</td>\n",
              "      <td>0</td>\n",
              "      <td>0</td>\n",
              "      <td>0</td>\n",
              "      <td>0</td>\n",
              "      <td>1</td>\n",
              "      <td>1</td>\n",
              "      <td>0</td>\n",
              "    </tr>\n",
              "    <tr>\n",
              "      <th>3</th>\n",
              "      <td>1</td>\n",
              "      <td>0</td>\n",
              "      <td>1</td>\n",
              "      <td>0</td>\n",
              "      <td>0</td>\n",
              "      <td>1</td>\n",
              "      <td>0</td>\n",
              "      <td>0</td>\n",
              "      <td>1</td>\n",
              "      <td>0</td>\n",
              "      <td>...</td>\n",
              "      <td>0</td>\n",
              "      <td>1</td>\n",
              "      <td>0</td>\n",
              "      <td>0</td>\n",
              "      <td>0</td>\n",
              "      <td>1</td>\n",
              "      <td>0</td>\n",
              "      <td>0</td>\n",
              "      <td>0</td>\n",
              "      <td>1</td>\n",
              "    </tr>\n",
              "    <tr>\n",
              "      <th>4</th>\n",
              "      <td>1</td>\n",
              "      <td>0</td>\n",
              "      <td>1</td>\n",
              "      <td>0</td>\n",
              "      <td>1</td>\n",
              "      <td>1</td>\n",
              "      <td>0</td>\n",
              "      <td>1</td>\n",
              "      <td>0</td>\n",
              "      <td>0</td>\n",
              "      <td>...</td>\n",
              "      <td>1</td>\n",
              "      <td>0</td>\n",
              "      <td>1</td>\n",
              "      <td>0</td>\n",
              "      <td>1</td>\n",
              "      <td>0</td>\n",
              "      <td>0</td>\n",
              "      <td>1</td>\n",
              "      <td>0</td>\n",
              "      <td>0</td>\n",
              "    </tr>\n",
              "    <tr>\n",
              "      <th>5</th>\n",
              "      <td>1</td>\n",
              "      <td>0</td>\n",
              "      <td>0</td>\n",
              "      <td>0</td>\n",
              "      <td>0</td>\n",
              "      <td>1</td>\n",
              "      <td>1</td>\n",
              "      <td>0</td>\n",
              "      <td>0</td>\n",
              "      <td>0</td>\n",
              "      <td>...</td>\n",
              "      <td>0</td>\n",
              "      <td>1</td>\n",
              "      <td>0</td>\n",
              "      <td>0</td>\n",
              "      <td>0</td>\n",
              "      <td>1</td>\n",
              "      <td>0</td>\n",
              "      <td>1</td>\n",
              "      <td>0</td>\n",
              "      <td>0</td>\n",
              "    </tr>\n",
              "    <tr>\n",
              "      <th>...</th>\n",
              "      <td>...</td>\n",
              "      <td>...</td>\n",
              "      <td>...</td>\n",
              "      <td>...</td>\n",
              "      <td>...</td>\n",
              "      <td>...</td>\n",
              "      <td>...</td>\n",
              "      <td>...</td>\n",
              "      <td>...</td>\n",
              "      <td>...</td>\n",
              "      <td>...</td>\n",
              "      <td>...</td>\n",
              "      <td>...</td>\n",
              "      <td>...</td>\n",
              "      <td>...</td>\n",
              "      <td>...</td>\n",
              "      <td>...</td>\n",
              "      <td>...</td>\n",
              "      <td>...</td>\n",
              "      <td>...</td>\n",
              "      <td>...</td>\n",
              "    </tr>\n",
              "    <tr>\n",
              "      <th>96</th>\n",
              "      <td>1</td>\n",
              "      <td>0</td>\n",
              "      <td>0</td>\n",
              "      <td>0</td>\n",
              "      <td>0</td>\n",
              "      <td>1</td>\n",
              "      <td>1</td>\n",
              "      <td>0</td>\n",
              "      <td>0</td>\n",
              "      <td>1</td>\n",
              "      <td>...</td>\n",
              "      <td>1</td>\n",
              "      <td>1</td>\n",
              "      <td>1</td>\n",
              "      <td>0</td>\n",
              "      <td>0</td>\n",
              "      <td>0</td>\n",
              "      <td>0</td>\n",
              "      <td>0</td>\n",
              "      <td>0</td>\n",
              "      <td>0</td>\n",
              "    </tr>\n",
              "    <tr>\n",
              "      <th>97</th>\n",
              "      <td>1</td>\n",
              "      <td>1</td>\n",
              "      <td>1</td>\n",
              "      <td>0</td>\n",
              "      <td>1</td>\n",
              "      <td>1</td>\n",
              "      <td>0</td>\n",
              "      <td>0</td>\n",
              "      <td>0</td>\n",
              "      <td>0</td>\n",
              "      <td>...</td>\n",
              "      <td>1</td>\n",
              "      <td>1</td>\n",
              "      <td>1</td>\n",
              "      <td>0</td>\n",
              "      <td>1</td>\n",
              "      <td>1</td>\n",
              "      <td>0</td>\n",
              "      <td>1</td>\n",
              "      <td>0</td>\n",
              "      <td>0</td>\n",
              "    </tr>\n",
              "    <tr>\n",
              "      <th>98</th>\n",
              "      <td>1</td>\n",
              "      <td>0</td>\n",
              "      <td>1</td>\n",
              "      <td>0</td>\n",
              "      <td>1</td>\n",
              "      <td>0</td>\n",
              "      <td>1</td>\n",
              "      <td>0</td>\n",
              "      <td>1</td>\n",
              "      <td>0</td>\n",
              "      <td>...</td>\n",
              "      <td>1</td>\n",
              "      <td>1</td>\n",
              "      <td>1</td>\n",
              "      <td>0</td>\n",
              "      <td>1</td>\n",
              "      <td>0</td>\n",
              "      <td>0</td>\n",
              "      <td>0</td>\n",
              "      <td>0</td>\n",
              "      <td>1</td>\n",
              "    </tr>\n",
              "    <tr>\n",
              "      <th>99</th>\n",
              "      <td>1</td>\n",
              "      <td>0</td>\n",
              "      <td>0</td>\n",
              "      <td>1</td>\n",
              "      <td>1</td>\n",
              "      <td>1</td>\n",
              "      <td>0</td>\n",
              "      <td>0</td>\n",
              "      <td>0</td>\n",
              "      <td>0</td>\n",
              "      <td>...</td>\n",
              "      <td>1</td>\n",
              "      <td>1</td>\n",
              "      <td>1</td>\n",
              "      <td>0</td>\n",
              "      <td>0</td>\n",
              "      <td>1</td>\n",
              "      <td>0</td>\n",
              "      <td>1</td>\n",
              "      <td>1</td>\n",
              "      <td>0</td>\n",
              "    </tr>\n",
              "    <tr>\n",
              "      <th>100</th>\n",
              "      <td>1</td>\n",
              "      <td>0</td>\n",
              "      <td>0</td>\n",
              "      <td>0</td>\n",
              "      <td>1</td>\n",
              "      <td>1</td>\n",
              "      <td>1</td>\n",
              "      <td>0</td>\n",
              "      <td>0</td>\n",
              "      <td>0</td>\n",
              "      <td>...</td>\n",
              "      <td>1</td>\n",
              "      <td>1</td>\n",
              "      <td>0</td>\n",
              "      <td>1</td>\n",
              "      <td>1</td>\n",
              "      <td>0</td>\n",
              "      <td>0</td>\n",
              "      <td>1</td>\n",
              "      <td>1</td>\n",
              "      <td>0</td>\n",
              "    </tr>\n",
              "  </tbody>\n",
              "</table>\n",
              "<p>100 rows × 500 columns</p>\n",
              "</div>\n",
              "      <button class=\"colab-df-convert\" onclick=\"convertToInteractive('df-e5f20644-4b9f-4bc4-9d7b-26b1a2c76391')\"\n",
              "              title=\"Convert this dataframe to an interactive table.\"\n",
              "              style=\"display:none;\">\n",
              "        \n",
              "  <svg xmlns=\"http://www.w3.org/2000/svg\" height=\"24px\"viewBox=\"0 0 24 24\"\n",
              "       width=\"24px\">\n",
              "    <path d=\"M0 0h24v24H0V0z\" fill=\"none\"/>\n",
              "    <path d=\"M18.56 5.44l.94 2.06.94-2.06 2.06-.94-2.06-.94-.94-2.06-.94 2.06-2.06.94zm-11 1L8.5 8.5l.94-2.06 2.06-.94-2.06-.94L8.5 2.5l-.94 2.06-2.06.94zm10 10l.94 2.06.94-2.06 2.06-.94-2.06-.94-.94-2.06-.94 2.06-2.06.94z\"/><path d=\"M17.41 7.96l-1.37-1.37c-.4-.4-.92-.59-1.43-.59-.52 0-1.04.2-1.43.59L10.3 9.45l-7.72 7.72c-.78.78-.78 2.05 0 2.83L4 21.41c.39.39.9.59 1.41.59.51 0 1.02-.2 1.41-.59l7.78-7.78 2.81-2.81c.8-.78.8-2.07 0-2.86zM5.41 20L4 18.59l7.72-7.72 1.47 1.35L5.41 20z\"/>\n",
              "  </svg>\n",
              "      </button>\n",
              "      \n",
              "  <style>\n",
              "    .colab-df-container {\n",
              "      display:flex;\n",
              "      flex-wrap:wrap;\n",
              "      gap: 12px;\n",
              "    }\n",
              "\n",
              "    .colab-df-convert {\n",
              "      background-color: #E8F0FE;\n",
              "      border: none;\n",
              "      border-radius: 50%;\n",
              "      cursor: pointer;\n",
              "      display: none;\n",
              "      fill: #1967D2;\n",
              "      height: 32px;\n",
              "      padding: 0 0 0 0;\n",
              "      width: 32px;\n",
              "    }\n",
              "\n",
              "    .colab-df-convert:hover {\n",
              "      background-color: #E2EBFA;\n",
              "      box-shadow: 0px 1px 2px rgba(60, 64, 67, 0.3), 0px 1px 3px 1px rgba(60, 64, 67, 0.15);\n",
              "      fill: #174EA6;\n",
              "    }\n",
              "\n",
              "    [theme=dark] .colab-df-convert {\n",
              "      background-color: #3B4455;\n",
              "      fill: #D2E3FC;\n",
              "    }\n",
              "\n",
              "    [theme=dark] .colab-df-convert:hover {\n",
              "      background-color: #434B5C;\n",
              "      box-shadow: 0px 1px 3px 1px rgba(0, 0, 0, 0.15);\n",
              "      filter: drop-shadow(0px 1px 2px rgba(0, 0, 0, 0.3));\n",
              "      fill: #FFFFFF;\n",
              "    }\n",
              "  </style>\n",
              "\n",
              "      <script>\n",
              "        const buttonEl =\n",
              "          document.querySelector('#df-e5f20644-4b9f-4bc4-9d7b-26b1a2c76391 button.colab-df-convert');\n",
              "        buttonEl.style.display =\n",
              "          google.colab.kernel.accessAllowed ? 'block' : 'none';\n",
              "\n",
              "        async function convertToInteractive(key) {\n",
              "          const element = document.querySelector('#df-e5f20644-4b9f-4bc4-9d7b-26b1a2c76391');\n",
              "          const dataTable =\n",
              "            await google.colab.kernel.invokeFunction('convertToInteractive',\n",
              "                                                     [key], {});\n",
              "          if (!dataTable) return;\n",
              "\n",
              "          const docLinkHtml = 'Like what you see? Visit the ' +\n",
              "            '<a target=\"_blank\" href=https://colab.research.google.com/notebooks/data_table.ipynb>data table notebook</a>'\n",
              "            + ' to learn more about interactive tables.';\n",
              "          element.innerHTML = '';\n",
              "          dataTable['output_type'] = 'display_data';\n",
              "          await google.colab.output.renderOutput(dataTable, element);\n",
              "          const docLink = document.createElement('div');\n",
              "          docLink.innerHTML = docLinkHtml;\n",
              "          element.appendChild(docLink);\n",
              "        }\n",
              "      </script>\n",
              "    </div>\n",
              "  </div>\n",
              "  "
            ]
          },
          "metadata": {},
          "execution_count": 7
        }
      ]
    },
    {
      "cell_type": "code",
      "source": [
        "# O being tail and 1 being head\n",
        "# counting number of heads and tails\n",
        "np.random.seed(0)\n",
        "heads = df.sum().to_numpy() #numpy array\n",
        "tails = 100 - heads\n",
        "selected_coin = np.random.randint(0,10,size=(500,)) #creating an array of 500 values with each one having value ranging from 1 to 10\n",
        "_, count_selected_coin = np.unique(selected_coin,return_counts = True) # count of which coin has been selected how many times\n",
        "MLE_vector = np.zeros(10) #maximum likelihood estimation\n"
      ],
      "metadata": {
        "id": "Hn9sM8EAEIKE"
      },
      "execution_count": null,
      "outputs": []
    },
    {
      "cell_type": "code",
      "source": [
        "selected_coin"
      ],
      "metadata": {
        "colab": {
          "base_uri": "https://localhost:8080/"
        },
        "id": "xrqaN-HhFbdj",
        "outputId": "e71d5ad2-0bfd-442a-ba38-dfba1022c455"
      },
      "execution_count": null,
      "outputs": [
        {
          "output_type": "execute_result",
          "data": {
            "text/plain": [
              "array([5, 0, 3, 3, 7, 9, 3, 5, 2, 4, 7, 6, 8, 8, 1, 6, 7, 7, 8, 1, 5, 9,\n",
              "       8, 9, 4, 3, 0, 3, 5, 0, 2, 3, 8, 1, 3, 3, 3, 7, 0, 1, 9, 9, 0, 4,\n",
              "       7, 3, 2, 7, 2, 0, 0, 4, 5, 5, 6, 8, 4, 1, 4, 9, 8, 1, 1, 7, 9, 9,\n",
              "       3, 6, 7, 2, 0, 3, 5, 9, 4, 4, 6, 4, 4, 3, 4, 4, 8, 4, 3, 7, 5, 5,\n",
              "       0, 1, 5, 9, 3, 0, 5, 0, 1, 2, 4, 2, 0, 3, 2, 0, 7, 5, 9, 0, 2, 7,\n",
              "       2, 9, 2, 3, 3, 2, 3, 4, 1, 2, 9, 1, 4, 6, 8, 2, 3, 0, 0, 6, 0, 6,\n",
              "       3, 3, 8, 8, 8, 2, 3, 2, 0, 8, 8, 3, 8, 2, 8, 4, 3, 0, 4, 3, 6, 9,\n",
              "       8, 0, 8, 5, 9, 0, 9, 6, 5, 3, 1, 8, 0, 4, 9, 6, 5, 7, 8, 8, 9, 2,\n",
              "       8, 6, 6, 9, 1, 6, 8, 8, 3, 2, 3, 6, 3, 6, 5, 7, 0, 8, 4, 6, 5, 8,\n",
              "       2, 3, 9, 7, 5, 3, 4, 5, 3, 3, 7, 9, 9, 9, 7, 3, 2, 3, 9, 7, 7, 5,\n",
              "       1, 2, 2, 8, 1, 5, 8, 4, 0, 2, 5, 5, 0, 8, 1, 1, 0, 3, 8, 8, 4, 4,\n",
              "       0, 9, 3, 7, 3, 2, 1, 1, 2, 1, 4, 2, 5, 5, 5, 2, 5, 7, 7, 6, 1, 6,\n",
              "       7, 2, 3, 1, 9, 5, 9, 9, 2, 0, 9, 1, 9, 0, 6, 0, 4, 8, 4, 3, 3, 8,\n",
              "       8, 7, 0, 3, 8, 7, 7, 1, 8, 4, 7, 0, 4, 9, 0, 6, 4, 2, 4, 6, 3, 3,\n",
              "       7, 8, 5, 0, 8, 5, 4, 7, 4, 1, 3, 3, 9, 2, 5, 2, 3, 5, 7, 2, 7, 1,\n",
              "       6, 5, 0, 0, 3, 1, 9, 9, 6, 6, 7, 8, 8, 7, 0, 8, 6, 8, 9, 8, 3, 6,\n",
              "       1, 7, 4, 9, 2, 0, 8, 2, 7, 8, 4, 4, 1, 7, 6, 9, 4, 1, 5, 9, 7, 1,\n",
              "       3, 5, 7, 3, 6, 6, 7, 9, 1, 9, 6, 0, 3, 8, 4, 1, 4, 5, 0, 3, 1, 4,\n",
              "       4, 4, 0, 0, 8, 4, 6, 9, 3, 3, 2, 1, 2, 1, 3, 4, 1, 1, 0, 7, 8, 4,\n",
              "       3, 5, 6, 3, 2, 9, 8, 1, 4, 0, 8, 3, 9, 5, 5, 1, 7, 8, 6, 4, 7, 3,\n",
              "       5, 3, 6, 4, 7, 3, 0, 5, 9, 3, 7, 5, 5, 8, 0, 8, 3, 6, 9, 3, 2, 7,\n",
              "       0, 3, 0, 3, 6, 1, 9, 2, 9, 4, 9, 1, 3, 2, 4, 9, 7, 4, 9, 4, 1, 2,\n",
              "       7, 2, 3, 9, 7, 6, 6, 2, 3, 6, 0, 8, 0, 7, 6, 5])"
            ]
          },
          "metadata": {},
          "execution_count": 26
        }
      ]
    },
    {
      "cell_type": "code",
      "source": [
        "heads"
      ],
      "metadata": {
        "colab": {
          "base_uri": "https://localhost:8080/"
        },
        "id": "Qqo4ZcicFcSx",
        "outputId": "cf237cd4-5dad-4588-c86d-d83db7dcfe69"
      },
      "execution_count": null,
      "outputs": [
        {
          "output_type": "execute_result",
          "data": {
            "text/plain": [
              "array([96, 26, 40, 21, 42, 89, 44, 31, 49, 10, 89, 42, 60, 65, 24, 83, 62,\n",
              "       75, 79, 38,  1, 41, 53, 69, 14, 65,  0, 45, 88, 81, 48,  9, 77, 59,\n",
              "        2, 68,  1, 12,  9, 89, 28, 82, 32, 77, 36,  0,  5, 35,  0, 72, 77,\n",
              "        7,  0, 62, 80, 16, 90, 38, 78, 31, 38, 94, 15, 13, 11,  3, 92, 51,\n",
              "       57, 10, 66,  7, 71, 37, 43, 45, 17, 29,  0, 77,  6, 57, 92, 88, 79,\n",
              "        7, 25, 62, 86, 62, 54, 53, 52, 19, 10, 66, 23,  1, 40, 49, 17, 13,\n",
              "       17, 18, 50, 87, 32, 49, 49, 66,  0,  0, 72, 88,  9,  4, 40, 61, 11,\n",
              "       71, 77, 11, 49, 75, 92, 75, 16, 50, 21,  1, 65, 36,  9, 56, 72, 86,\n",
              "        2, 77, 10, 64, 33, 95, 21, 70, 66,  2, 48, 59, 12,  2, 93,  2, 48,\n",
              "       53, 38, 34, 25,  2, 10, 63,  5, 40, 30, 16, 90,  7, 71, 89,  9, 47,\n",
              "       71, 65, 78, 72,  0, 27,  1, 52, 50, 17, 30, 56, 25,  0, 84, 14, 41,\n",
              "       93, 41, 36, 34, 72, 68, 75, 17,  0, 72, 44, 59, 89, 78, 88, 70,  7,\n",
              "       67, 30, 61, 35, 60,  0, 11,  1, 45,  8, 82, 48, 13, 56, 86, 23, 24,\n",
              "       51, 38, 42, 68,  0, 22, 79, 69, 67, 79, 67, 18,  2, 40, 46, 72, 92,\n",
              "       85, 46, 56,  2, 27, 84, 30, 59, 38,  3, 29, 78,  0, 84, 70, 36, 34,\n",
              "       44, 51, 68, 39, 77, 58, 90, 87, 10, 75, 76, 25, 47, 89, 13, 78, 71,\n",
              "       40, 77, 18, 27, 89, 53, 52, 75, 36, 48, 53, 41,  1, 49,  1, 49,  0,\n",
              "       60,  9,  0, 64, 90, 74, 71, 63, 81, 47, 33, 48,  8, 12, 52, 50, 44,\n",
              "       15, 19,  1, 88, 19, 82, 51, 94, 61, 58, 86, 48, 12, 20, 45, 45, 62,\n",
              "        1, 57, 74, 43, 91, 15, 25, 43, 88, 91, 90, 60, 24, 41, 82,  1, 47,\n",
              "       56, 66, 85, 80, 27, 77, 70, 68, 10, 92,  1, 45, 52, 30,  9, 10, 89,\n",
              "       94, 10, 84,  7, 58, 22, 45, 18, 55, 54, 57, 50, 67, 91,  2, 54,  1,\n",
              "       38, 26, 25, 58, 50, 80, 15, 70, 69, 28, 36, 37,  0, 90, 29, 57, 20,\n",
              "       92, 88,  0, 36, 10, 88, 78, 44, 74, 83,  1, 86, 57,  0, 66, 38, 40,\n",
              "       34, 40, 61,  3, 20, 23,  6, 16, 71, 78, 43, 37, 34, 78, 16, 33, 36,\n",
              "       96, 52, 89, 67, 80, 69, 36, 72, 84,  3, 80, 30, 81, 29,  7, 23,  1,\n",
              "       25, 11,  9, 38, 45, 77, 33, 49,  9, 56, 16, 21, 36, 79, 44, 31, 14,\n",
              "       89,  1, 17, 90, 25, 17, 43, 48, 16, 29, 54, 35, 69, 19, 72, 17, 92,\n",
              "        7,  3,  1,  9, 17, 78, 32, 88,  0, 91, 78, 89, 95, 27, 65, 89, 64,\n",
              "        7, 57, 25,  1, 52, 27, 46])"
            ]
          },
          "metadata": {},
          "execution_count": 18
        }
      ]
    },
    {
      "cell_type": "code",
      "source": [
        "MLE_vector.shape"
      ],
      "metadata": {
        "colab": {
          "base_uri": "https://localhost:8080/"
        },
        "id": "UwnVGaX6IN-R",
        "outputId": "b764c5a1-e19b-45e9-f6a3-160b4fb9be6e"
      },
      "execution_count": null,
      "outputs": [
        {
          "output_type": "execute_result",
          "data": {
            "text/plain": [
              "(10,)"
            ]
          },
          "metadata": {},
          "execution_count": 22
        }
      ]
    },
    {
      "cell_type": "code",
      "source": [
        "#The MLE vector is initialized to zero, and the number of heads for each coin is accumulated in the MLE vector based on the selected coin.\n",
        "\n",
        "\n",
        "for i,j in zip(heads, selected_coin):\n",
        "  MLE_vector[j] += i"
      ],
      "metadata": {
        "id": "Psw5eetdHpLp"
      },
      "execution_count": null,
      "outputs": []
    },
    {
      "cell_type": "code",
      "source": [
        "#The MLE vector is then divided by the product of the count of the selected coin and the total number \n",
        "#of tosses (100) to obtain the MLE estimates of the unknown bias values.\n",
        "MLE_vector = MLE_vector/(count_selected_coin*100)\n"
      ],
      "metadata": {
        "id": "GIgpFh4lIwlp"
      },
      "execution_count": null,
      "outputs": []
    },
    {
      "cell_type": "code",
      "source": [
        "#A function compute_likelihood is defined to calculate the \n",
        "#likelihood of a given observation (number of heads) given the number of tosses and the estimated bias value.\n",
        "def compute_likelihood(obs, n, pheads):\n",
        "\n",
        "    likelihood = comb(n, obs, exact=True)*(pheads**obs)*(1.0-pheads)**(n-obs)\n",
        "\n",
        "    return likelihood"
      ],
      "metadata": {
        "id": "vqtcHSY3JQ7G"
      },
      "execution_count": null,
      "outputs": []
    },
    {
      "cell_type": "code",
      "source": [],
      "metadata": {
        "id": "_1j47K2yKuqR"
      },
      "execution_count": null,
      "outputs": []
    },
    {
      "cell_type": "code",
      "source": [
        "#The MLE estimates are updated using the Expectation-Maximization (EM) algorithm. In each iteration (or epoch) of the EM algorithm, \n",
        "#the expected values of the number of heads and tails for each coin are calculated based on the current MLE estimates. \n",
        "#The MLE estimates are then updated based on these expected values.\n",
        "np.random.seed(0)\n",
        "p_heads = np.zeros((100,10))\n",
        "p_heads[0]=np.random.random((1,10))\n",
        "print(p_heads[0])\n",
        "#The loop continues until the improvement in the MLE estimates between two consecutive iterations is less than a threshold eps, which is set to 0.01.\n",
        "eps = 0.01\n",
        "improvement = float('inf') #positive infinity\n",
        "epoch = 0\n",
        "while improvement>eps:\n",
        "  expectation = np.zeros((10,500,2))\n",
        "  \n",
        "  for i in range(500):\n",
        "    e_head = heads[i]\n",
        "    e_tail = tails[i]\n",
        "\n",
        "    likelihood = np.zeros(10)\n",
        "\n",
        "    for j in range(10):\n",
        "      likelihood[j]= compute_likelihood(e_head,100,p_heads[epoch][j])\n",
        "    \n",
        "    weights = likelihood/np.sum(likelihood)\n",
        "    for j in range(10):\n",
        "      expectation[j][i] = weights[j]*np.array([e_head,e_tail])\n",
        "  \n",
        "  theta = np.zeros(10)\n",
        "  for i in range(10):\n",
        "    theta[i] = np.sum(expectation[i],axis =0)[0]/np.sum(expectation[i])\n",
        "  \n",
        "  p_heads[epoch+1] = theta\n",
        "  print(f'Epoch ->{epoch}\\n Theta ->{theta}')\n",
        "\n",
        "  improvement = max(abs(p_heads[epoch+1]-p_heads[epoch]))\n",
        "  epoch+=1"
      ],
      "metadata": {
        "colab": {
          "base_uri": "https://localhost:8080/"
        },
        "id": "TLSt6ffzJvTB",
        "outputId": "a1d50a74-86c0-48fc-d05c-b9cb3f44fda5"
      },
      "execution_count": null,
      "outputs": [
        {
          "output_type": "stream",
          "name": "stdout",
          "text": [
            "[0.5488135  0.71518937 0.60276338 0.54488318 0.4236548  0.64589411\n",
            " 0.43758721 0.891773   0.96366276 0.38344152]\n",
            "Epoch ->0\n",
            " Theta ->[0.54030055 0.74700458 0.60774813 0.53612429 0.39390495 0.66432208\n",
            " 0.42455597 0.87913902 0.9408577  0.16211897]\n",
            "Epoch ->1\n",
            " Theta ->[0.5302535  0.75955475 0.61332103 0.5258201  0.35874312 0.67708556\n",
            " 0.40729141 0.87384035 0.92352302 0.10546534]\n",
            "Epoch ->2\n",
            " Theta ->[0.52018909 0.76576297 0.61839452 0.5155784  0.31426446 0.68593045\n",
            " 0.39912291 0.87020696 0.9136364  0.08328092]\n",
            "Epoch ->3\n",
            " Theta ->[0.51163503 0.76889438 0.62203863 0.50672204 0.27727676 0.69178149\n",
            " 0.39765551 0.86830699 0.90930678 0.07144459]\n",
            "Epoch ->4\n",
            " Theta ->[0.50591337 0.77056051 0.62378851 0.50050643 0.24532125 0.69564221\n",
            " 0.39109125 0.86756872 0.90765306 0.0584879 ]\n",
            "Epoch ->5\n",
            " Theta ->[0.50177514 0.77150992 0.62403936 0.49571276 0.22302672 0.69828232\n",
            " 0.38031544 0.86742743 0.90706774 0.04969973]\n",
            "Epoch ->6\n",
            " Theta ->[0.49827412 0.77206431 0.62329137 0.49144947 0.20702191 0.70011169\n",
            " 0.36859236 0.86757113 0.90687069 0.044538  ]\n",
            "Epoch ->7\n",
            " Theta ->[0.49486354 0.77237337 0.62188139 0.48714269 0.19357881 0.70134625\n",
            " 0.35755323 0.8678396  0.90680197 0.04040518]\n",
            "Epoch ->8\n",
            " Theta ->[0.49139945 0.77251562 0.61997426 0.48257882 0.18073897 0.70210547\n",
            " 0.34738862 0.86814663 0.90676844 0.03582938]\n",
            "Epoch ->9\n",
            " Theta ->[0.48790436 0.772535   0.61765985 0.47769309 0.16779264 0.70246642\n",
            " 0.33751193 0.86844301 0.90673968 0.03014372]\n",
            "Epoch ->10\n",
            " Theta ->[0.48437903 0.77245793 0.6150036  0.4723681  0.15546467 0.70248497\n",
            " 0.32750971 0.86869972 0.90670787 0.02413786]\n",
            "Epoch ->11\n",
            " Theta ->[0.48082938 0.77230195 0.61204314 0.4664367  0.14469318 0.7022024\n",
            " 0.31791435 0.86889965 0.90667292 0.01925729]\n",
            "Epoch ->12\n",
            " Theta ->[0.47744018 0.77207913 0.60879011 0.45986275 0.13608127 0.70164984\n",
            " 0.30932917 0.86903319 0.90663702 0.01504909]\n"
          ]
        }
      ]
    },
    {
      "cell_type": "code",
      "source": [
        "#The MLE estimates are stored in the theta variable, which is the final output of the code.\n",
        "for i, j in enumerate(theta): # to get the index as well as value\n",
        "    print(f\"{i+1} : {j:.3f}\")"
      ],
      "metadata": {
        "colab": {
          "base_uri": "https://localhost:8080/"
        },
        "id": "4sfIEz69NBjV",
        "outputId": "23029744-cca5-4284-fdd8-a0289da6cc9d"
      },
      "execution_count": null,
      "outputs": [
        {
          "output_type": "stream",
          "name": "stdout",
          "text": [
            "1 : 0.477\n",
            "2 : 0.772\n",
            "3 : 0.609\n",
            "4 : 0.460\n",
            "5 : 0.136\n",
            "6 : 0.702\n",
            "7 : 0.309\n",
            "8 : 0.869\n",
            "9 : 0.907\n",
            "10 : 0.015\n"
          ]
        }
      ]
    },
    {
      "cell_type": "code",
      "source": [
        "# this is the bias of each coin"
      ],
      "metadata": {
        "id": "g-SrhFoENRyg"
      },
      "execution_count": null,
      "outputs": []
    },
    {
      "cell_type": "code",
      "source": [
        "theta"
      ],
      "metadata": {
        "colab": {
          "base_uri": "https://localhost:8080/"
        },
        "id": "g6hZSK74NbdW",
        "outputId": "ffa26a46-be82-4028-af5e-6c2a195c3637"
      },
      "execution_count": null,
      "outputs": [
        {
          "output_type": "execute_result",
          "data": {
            "text/plain": [
              "array([0.47744018, 0.77207913, 0.60879011, 0.45986275, 0.13608127,\n",
              "       0.70164984, 0.30932917, 0.86903319, 0.90663702, 0.01504909])"
            ]
          },
          "metadata": {},
          "execution_count": 41
        }
      ]
    },
    {
      "cell_type": "code",
      "source": [],
      "metadata": {
        "id": "Vs8n1CQtNeCn"
      },
      "execution_count": null,
      "outputs": []
    }
  ]
}