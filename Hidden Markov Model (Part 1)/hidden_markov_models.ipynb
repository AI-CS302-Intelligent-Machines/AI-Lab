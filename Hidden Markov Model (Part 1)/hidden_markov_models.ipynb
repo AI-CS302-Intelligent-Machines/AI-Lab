{
  "nbformat": 4,
  "nbformat_minor": 0,
  "metadata": {
    "colab": {
      "provenance": []
    },
    "kernelspec": {
      "name": "python3",
      "display_name": "Python 3"
    },
    "language_info": {
      "name": "python"
    }
  },
  "cells": [
    {
      "cell_type": "code",
      "execution_count": 1,
      "metadata": {
        "id": "z8BLd6Nj-5V4"
      },
      "outputs": [],
      "source": [
        "# Importing\n",
        "\n",
        "import numpy as np\n",
        "import re"
      ]
    },
    {
      "cell_type": "code",
      "source": [
        "# Reading the Book and Preprocessing\n",
        "\n",
        "# Reading the file\n",
        "book = 'War_and_Peace.txt'\n",
        "file = open(book, 'r', encoding='utf-8')\n",
        "text = file.read()\n",
        "file.close()\n",
        "\n",
        "# Removing the punctuations and converting to lower case\n",
        "text = re.sub(r'[^a-zA-Z]', \" \", text)\n",
        "text = \" \".join(text.split()).lower()[:100000]\n",
        "\n",
        "# Creating a dictionary of all the unique characters\n",
        "dictionary = {}\n",
        "for i in range(26):\n",
        "    dictionary[chr(i + 97)] = i\n",
        "dictionary[\" \"] = 26"
      ],
      "metadata": {
        "id": "a9WnKL0NJo2K"
      },
      "execution_count": 2,
      "outputs": []
    },
    {
      "cell_type": "code",
      "source": [
        "# Initialize the parameters\n",
        "\n",
        "# Observed sequence\n",
        "O = np.zeros(len(text), dtype=int)\n",
        "\n",
        "for i in range(len(text)):\n",
        "    O[i] = dictionary[text[i]]\n",
        "# Initial state distribution\n",
        "pi = np.array(([0.525483, 0.474517]))\n",
        "# Observable sequence\n",
        "B = np.array([[0.03735, 0.03408, 0.03455, 0.03828, 0.03782, 0.03922, 0.03688, 0.03408, 0.03875, 0.04062, 0.03735, 0.03968, 0.03548, 0.03735, 0.04062, 0.03595, 0.03641, 0.03408, 0.04062, 0.03548, 0.03922, 0.04062, 0.03455, 0.03595, 0.03408, 0.03408, 0.03688],\n",
        "              [0.03909, 0.03537,  0.03537, 0.03909, 0.03583,  0.03630, 0.04048, 0.03537, 0.03816, 0.03909, 0.03490, 0.03723, 0.03537, 0.03909, 0.03397, 0.03397, 0.03816, 0.03676, 0.04048, 0.03443, 0.03537, 0.03955, 0.03816,  0.03723,  0.03769, 0.03955, 0.03397]])\n",
        "# Transition matrix\n",
        "A = np.array([[0.47468, 0.52532], [0.51656, 0.48344]])\n",
        "# Set of possible observations\n",
        "V = np.array(['a', 'b', 'c', 'd', 'e', 'f', 'g', 'h', 'i', 'j', 'k', 'l', 'm', 'n', 'o', 'p', 'q', 'r', 's', 't', 'u', 'v', 'w', 'x', 'y', 'z', ' '])\n",
        "# Set of possible states, Q is hidden\n",
        "# Number of observation symbols\n",
        "M = len(V)\n",
        "# Number of states in the model\n",
        "N = len(A)\n",
        "# Length of observation sequence\n",
        "T = len(O)"
      ],
      "metadata": {
        "id": "JXKMWmALJuL0"
      },
      "execution_count": 4,
      "outputs": []
    },
    {
      "cell_type": "code",
      "source": [
        "# Alpha Pass\n",
        "'''\n",
        "The alpha pass is a forward algorithm that computes the probability of being in a particular state at a given time, \n",
        "given the observed sequence up to that time. The forward variable alpha represents the joint probability of the observed \n",
        "sequence up to a certain point and being in a particular state at that point. The final alpha value represents the total \n",
        "probability of the observed sequence.\n",
        "'''\n",
        "\n",
        "\n",
        "def alpha_pass(A1, B1, pi1, O1):\n",
        "    c1 = np.zeros([T, 1])\n",
        "    alpha1 = np.zeros([T, N])\n",
        "    c1[0][0] = 0\n",
        "    for x in range(N):\n",
        "        alpha1[0][x] = pi1[x] * B1[x][O1[0]]\n",
        "        c1[0][0] = c1[0][0] + alpha1[0][x]\n",
        "    c1[0][0] = 1/c1[0][0]\n",
        "    for x in range(N):\n",
        "        alpha1[0][x] = c1[0][0] * alpha1[0][x]\n",
        "\n",
        "    for t in range(1, T):\n",
        "        c1[t][0] = 0\n",
        "        for x in range(N):\n",
        "            alpha1[t][x] = 0\n",
        "            for y in range(N):\n",
        "                alpha1[t][x] = alpha1[t][x] + alpha1[t-1][y] * A1[y][x]\n",
        "            alpha1[t][x] = alpha1[t][x] * B1[x][O1[t]]\n",
        "            c1[t][0] = c1[t][0] + alpha1[t][x]\n",
        "        c1[t][0] = 1/c1[t][0]\n",
        "        for x in range(N):\n",
        "            alpha1[t][x] = c1[t][0] * alpha1[t][x]\n",
        "    return alpha1, c1"
      ],
      "metadata": {
        "id": "8XeiENE9J91r"
      },
      "execution_count": 5,
      "outputs": []
    },
    {
      "cell_type": "code",
      "source": [
        "# Beta Pass\n",
        "'''\n",
        "The beta pass is a backward algorithm that computes the probability of observing the remainder of the sequence from a\n",
        "given state at a given time. The beta pass involves recursively computing the backward variable beta, which represents \n",
        "the probability of observing the remainder of the sequence starting from a particular state at a particular time. The \n",
        "final beta value represents the probability of observing the entire sequence starting from a particular state at a \n",
        "particular time.\n",
        "'''\n",
        "\n",
        "\n",
        "def beta_pass(A1, B1, O1, c1):\n",
        "    beta1 = np.zeros([T, N])\n",
        "    for x in range(N):\n",
        "        beta1[T-1][x] = c1[T-1][0]\n",
        "    for t in range(T-2, -1, -1):\n",
        "        for x in range(N):\n",
        "            beta1[t][x] = 0\n",
        "            for y in range(N):\n",
        "                beta1[t][x] = beta1[t][x] + A1[x][y] * B1[y][O1[t + 1]] * beta1[t + 1][y]\n",
        "            beta1[t][x] = c1[t][0] * beta1[t][x]\n",
        "    return beta1"
      ],
      "metadata": {
        "id": "H--qulKdKAst"
      },
      "execution_count": 6,
      "outputs": []
    },
    {
      "cell_type": "code",
      "source": [
        "# Compute Gamma(x,t) and Gamma(x,y,t)\n",
        "'''\n",
        "The gamma function is the posterior probability of being in a particular state at a given time, given the observed \n",
        "sequence. The digamma function is the posterior probability of being in a particular pair of states at two consecutive \n",
        "times, given the observed sequence. The gamma and digamma functions are used in the E-step of the EM algorithm to compute \n",
        "the expected sufficient statistics of the model, which are then used in the M-step to update the model parameters. \n",
        "'''\n",
        "\n",
        "def gamma_pass(alpha1, beta1, A1, B1, O1):\n",
        "    gamma1 = np.zeros([T, N])\n",
        "    di_gamma1 = np.zeros([T, N, N])\n",
        "    for t in range(T-1):\n",
        "        for x in range(N):\n",
        "            gamma1[t][x] = 0\n",
        "            for y in range(N):\n",
        "                di_gamma1[t][x][y] = alpha1[t][x] * A1[x][y] * B1[y][O1[t + 1]] * beta1[t + 1][y]\n",
        "                gamma1[t][x] = gamma1[t][x] + di_gamma1[t][x][y]\n",
        "    for x in range(N):\n",
        "        gamma1[T-1][x] = alpha1[T-1][x]\n",
        "    return gamma1, di_gamma1"
      ],
      "metadata": {
        "id": "jO0nN_jiKDkk"
      },
      "execution_count": 7,
      "outputs": []
    },
    {
      "cell_type": "code",
      "source": [
        "# Re-estimate A, B, pi\n",
        "\n",
        "def re_estimate(gamma1, di_gamma1, A1, B1, pi1):\n",
        "    for x in range(N):\n",
        "        pi1[x] = gamma1[0][x]\n",
        "    for x in range(N):\n",
        "        denominator = 0\n",
        "        for t in range(T-1):\n",
        "            denominator = denominator + gamma1[t][x]\n",
        "        for y in range(N):\n",
        "            numerator = 0\n",
        "            for t in range(T-1):\n",
        "                numerator = numerator + di_gamma1[t][x][y]\n",
        "            A1[x][y] = numerator/denominator\n",
        "    for x in range(N):\n",
        "        denominator = 0\n",
        "        for t in range(T):\n",
        "            denominator = denominator + gamma1[t][x]\n",
        "        for y in range(M):\n",
        "            numerator = 0\n",
        "            for t in range(T):\n",
        "                if O[t] == y:\n",
        "                    numerator = numerator + gamma1[t][x]\n",
        "            B1[x][y] = numerator/denominator\n",
        "    return A1, B1, pi1"
      ],
      "metadata": {
        "id": "RSZAX6yLKFmo"
      },
      "execution_count": 8,
      "outputs": []
    },
    {
      "cell_type": "code",
      "source": [
        "# Compute log[P(O|lambda)]\n",
        "\n",
        "def log_prob(c1):\n",
        "    logProb1 = 0\n",
        "    for x in range(T):\n",
        "        logProb1 = logProb1 + np.log(c1[x][0])\n",
        "    logProb1 = -logProb1\n",
        "    return logProb1"
      ],
      "metadata": {
        "id": "or-kSKwbKH51"
      },
      "execution_count": 9,
      "outputs": []
    },
    {
      "cell_type": "code",
      "source": [
        "# Values initially\n",
        "\n",
        "oldLogProb = -10000000\n",
        "print(\"A: \\n\", A)\n",
        "print(\"B: \\n\", np.concatenate((V.reshape(1, M), B), axis=0).T)\n",
        "print(\"pi: \", pi)\n",
        "print(\"logProb: \", oldLogProb)"
      ],
      "metadata": {
        "colab": {
          "base_uri": "https://localhost:8080/"
        },
        "id": "GNnry7g4KLJZ",
        "outputId": "78cf0643-bb50-40f9-ab24-956d885a491e"
      },
      "execution_count": 10,
      "outputs": [
        {
          "output_type": "stream",
          "name": "stdout",
          "text": [
            "A: \n",
            " [[0.47468 0.52532]\n",
            " [0.51656 0.48344]]\n",
            "B: \n",
            " [['a' '0.03735' '0.03909']\n",
            " ['b' '0.03408' '0.03537']\n",
            " ['c' '0.03455' '0.03537']\n",
            " ['d' '0.03828' '0.03909']\n",
            " ['e' '0.03782' '0.03583']\n",
            " ['f' '0.03922' '0.0363']\n",
            " ['g' '0.03688' '0.04048']\n",
            " ['h' '0.03408' '0.03537']\n",
            " ['i' '0.03875' '0.03816']\n",
            " ['j' '0.04062' '0.03909']\n",
            " ['k' '0.03735' '0.0349']\n",
            " ['l' '0.03968' '0.03723']\n",
            " ['m' '0.03548' '0.03537']\n",
            " ['n' '0.03735' '0.03909']\n",
            " ['o' '0.04062' '0.03397']\n",
            " ['p' '0.03595' '0.03397']\n",
            " ['q' '0.03641' '0.03816']\n",
            " ['r' '0.03408' '0.03676']\n",
            " ['s' '0.04062' '0.04048']\n",
            " ['t' '0.03548' '0.03443']\n",
            " ['u' '0.03922' '0.03537']\n",
            " ['v' '0.04062' '0.03955']\n",
            " ['w' '0.03455' '0.03816']\n",
            " ['x' '0.03595' '0.03723']\n",
            " ['y' '0.03408' '0.03769']\n",
            " ['z' '0.03408' '0.03955']\n",
            " [' ' '0.03688' '0.03397']]\n",
            "pi:  [0.525483 0.474517]\n",
            "logProb:  -10000000\n"
          ]
        }
      ]
    },
    {
      "cell_type": "code",
      "source": [
        "# After first iteration\n",
        "\n",
        "alpha, c = alpha_pass(A, B, pi, O)\n",
        "beta = beta_pass(A, B, O, c)\n",
        "gamma, di_gamma = gamma_pass(alpha, beta, A, B, O)\n",
        "A, B, pi = re_estimate(gamma, di_gamma, A, B, pi)\n",
        "logProb = log_prob(c)\n",
        "\n",
        "print(\"A: \\n\", A)\n",
        "print(\"B: \\n\", np.concatenate((V.reshape(1, M), np.round_(B, decimals=7)), axis=0).T)\n",
        "print(\"pi: \", np.round_(pi, decimals=7))\n",
        "print(\"logProb: \", logProb)"
      ],
      "metadata": {
        "colab": {
          "base_uri": "https://localhost:8080/"
        },
        "id": "zUxIC4cVyz-V",
        "outputId": "2b7691bf-e7bf-48dc-b362-f89723129398"
      },
      "execution_count": 11,
      "outputs": [
        {
          "output_type": "stream",
          "name": "stdout",
          "text": [
            "A: \n",
            " [[0.48026894 0.51973106]\n",
            " [0.52229627 0.47770373]]\n",
            "B: \n",
            " [['a' '0.0650332' '0.0696181']\n",
            " ['b' '0.0103124' '0.0109893']\n",
            " ['c' '0.0214131' '0.0224695']\n",
            " ['d' '0.0345775' '0.0362065']\n",
            " ['e' '0.1003477' '0.0971644']\n",
            " ['f' '0.0150525' '0.0143257']\n",
            " ['g' '0.0155683' '0.0174964']\n",
            " ['h' '0.0509223' '0.0541456']\n",
            " ['i' '0.062085' '0.0625161']\n",
            " ['j' '0.0007938' '0.0007862']\n",
            " ['k' '0.0067203' '0.006439']\n",
            " ['l' '0.0327946' '0.0315423']\n",
            " ['m' '0.0185224' '0.0189587']\n",
            " ['n' '0.0554752' '0.0594546']\n",
            " ['o' '0.062998' '0.0539197']\n",
            " ['p' '0.0194886' '0.0188698']\n",
            " ['q' '0.0005581' '0.000602']\n",
            " ['r' '0.0461758' '0.0510963']\n",
            " ['s' '0.0488063' '0.0498764']\n",
            " ['t' '0.0695088' '0.0691503']\n",
            " ['u' '0.021594' '0.019962']\n",
            " ['v' '0.0114156' '0.0114044']\n",
            " ['w' '0.0167512' '0.0189944']\n",
            " ['x' '0.004376' '0.0046447']\n",
            " ['y' '0.0144712' '0.0164336']\n",
            " ['z' '0.000347' '0.0004132']\n",
            " [' ' '0.1938911' '0.1825209']]\n",
            "pi:  [0.5333767 0.4666233]\n",
            "logProb:  -330338.2213654224\n"
          ]
        }
      ]
    },
    {
      "cell_type": "code",
      "source": [
        "# Output\n",
        "\n",
        "maxIter = 100\n",
        "for ite in range(maxIter):\n",
        "    alpha, c = alpha_pass(A, B, pi, O)\n",
        "    beta = beta_pass(A, B, O, c)\n",
        "    gamma, di_gamma = gamma_pass(alpha, beta, A, B, O)\n",
        "    A, B, pi = re_estimate(gamma, di_gamma, A, B, pi)\n",
        "    logProb = log_prob(c)\n",
        "\n",
        "print(\"A: \\n\", A)\n",
        "print(\"B: \\n\", np.concatenate((V.reshape(1, M), np.round_(B, decimals=7)), axis=0).T)\n",
        "print(\"pi: \", np.round_(pi, decimals=5))\n",
        "print(\"logProb: \", logProb)"
      ],
      "metadata": {
        "colab": {
          "base_uri": "https://localhost:8080/"
        },
        "id": "aCJHXwmQKL7e",
        "outputId": "6de1937c-def4-4d68-970f-098fffb6e50f"
      },
      "execution_count": 13,
      "outputs": [
        {
          "output_type": "stream",
          "name": "stdout",
          "text": [
            "A: \n",
            " [[0.28177283 0.71822717]\n",
            " [0.70648098 0.29351902]]\n",
            "B: \n",
            " [['a' '0.1356942' '6.54e-05']\n",
            " ['b' '0.0' '0.0211256']\n",
            " ['c' '0.0' '0.0435208']\n",
            " ['d' '0.0' '0.0702005']\n",
            " ['e' '0.199164' '0.0']\n",
            " ['f' '0.0' '0.0291395']\n",
            " ['g' '0.0006026' '0.0321966']\n",
            " ['h' '2.6e-06' '0.1041973']\n",
            " ['i' '0.1256161' '2.06e-05']\n",
            " ['j' '0.0' '0.0015671']\n",
            " ['k' '0.0' '0.0130523']\n",
            " ['l' '0.0049612' '0.0589333']\n",
            " ['m' '0.0' '0.0371732']\n",
            " ['n' '0.0' '0.1139792']\n",
            " ['o' '0.1179133' '0.0']\n",
            " ['p' '0.0001227' '0.0379253']\n",
            " ['q' '0.0' '0.0011505']\n",
            " ['r' '0.0' '0.0964637']\n",
            " ['s' '0.0' '0.0978721']\n",
            " ['t' '0.0' '0.1375248']\n",
            " ['u' '0.0361529' '0.0056588']\n",
            " ['v' '0.0' '0.0226332']\n",
            " ['w' '0.0' '0.0354474']\n",
            " ['x' '0.0001974' '0.008752']\n",
            " ['y' '0.0' '0.030647']\n",
            " ['z' '0.0' '0.0007538']\n",
            " [' ' '0.379573' '2e-07']]\n",
            "pi:  [0. 1.]\n",
            "logProb:  -275219.1416056292\n"
          ]
        }
      ]
    },
    {
      "cell_type": "markdown",
      "source": [
        "# **Range 0.1 to 0.3 -> ['a', 'e', 'i', 'o', 'u', ' ']**\n",
        "\n",
        "# **Value 0 to 10^-2-> ['b', 'c', 'd', 'f', 'g', 'h', 'j', 'k', 'l', 'm', 'n', 'q', 'q', 'r', 's', 't', 'v', 'w', 'x', 'y', 'z']**"
      ],
      "metadata": {
        "id": "6D0LFwSfQLnY"
      }
    },
    {
      "cell_type": "code",
      "source": [],
      "metadata": {
        "id": "kpDBL6xXzhrM"
      },
      "execution_count": null,
      "outputs": []
    }
  ]
}