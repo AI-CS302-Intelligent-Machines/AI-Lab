{
  "nbformat": 4,
  "nbformat_minor": 0,
  "metadata": {
    "colab": {
      "provenance": []
    },
    "kernelspec": {
      "name": "python3",
      "display_name": "Python 3"
    },
    "language_info": {
      "name": "python"
    }
  },
  "cells": [
    {
      "cell_type": "markdown",
      "source": [
        "# Problem Statement:-\n",
        "  ##### In a rabit leap problem, three east-bound rabbits stand in a line blocked by three west-bound rabbits. They are crossing a stream with stones placed in the east wesst direction in a line. There is one empty stone between them. The rabbits can only move forward one or two steps. They can jump over one rabbit if the need arises, but not more than that. Are they smart enough to cross each other without having to step into the water.\n",
        "\n",
        "\n",
        "---\n",
        "\n",
        "\n"
      ],
      "metadata": {
        "id": "IvgWIExiWv7F"
      }
    },
    {
      "cell_type": "markdown",
      "source": [
        "We can solve this proble in 2 ways:-\n",
        "\n",
        "1.   BFS\n",
        "2.   DFS\n",
        "\n",
        "First of all we will create an environment with 7 stones. We will also create an agent who will be responsible for actions (eg. jump). Here we can define state as an array of E, _ and W where E represents east-bound rabits, _ represent empty stone and W represent west-bound rabbits.\n",
        "For eg. initial state would be represented as (E,E,E, _ ,W,W,W) and goal state as (W,W,W, _ ,E,E,E)\n"
      ],
      "metadata": {
        "id": "WlL7aA66Xofy"
      }
    },
    {
      "cell_type": "code",
      "source": [
        "class Environment:\n",
        "  def __init__(self):\n",
        "    self.state = ['E','E','E',' ','W','W','W']\n",
        "\n",
        "# To check if goal state is reached or not\n",
        "  def is_goal_state(self):\n",
        "    return self.state == ['W','W','W',' ','E','E','E']\n",
        "\n",
        "# To get possible set of actions\n",
        "  def get_actions(self):\n",
        "    actions = []\n",
        "    for i in range(len(self.state)):\n",
        "      if self.state[i] =='E':\n",
        "        if i+1 < len(self.state) and self.state[i+1]==' ':\n",
        "          actions.append((i,i+1))\n",
        "        elif i+2 < len(self.state) and self.state[i+2]== ' ':\n",
        "          actions.append((i,i+2))\n",
        "      elif self.state[i]=='W':\n",
        "          if i-1>=0 and self.state[i-1]==' ':\n",
        "            actions.append((i,i-1))\n",
        "          elif i-1>=0 and self.state[i-2]==' ':\n",
        "            actions.append((i,i-2))\n",
        "    return actions\n",
        "  \n",
        "# To change the state\n",
        "  def apply_action(self,action):\n",
        "    self.state[action[0]],self.state[action[1]] = self.state[action[1]], self.state[action[0]]\n",
        "\n",
        "class Agent:\n",
        "  def __init__(self,env):\n",
        "    self.env = env\n",
        "\n",
        "# BFS\n",
        "  def searchBFS(self):\n",
        "    frontier = [([],self.env)]\n",
        "    while frontier:\n",
        "      path,current_env = frontier.pop(0)\n",
        "      if current_env.is_goal_state():\n",
        "        return path\n",
        "      for action in current_env.get_actions():\n",
        "        new_env = Environment()\n",
        "        new_env.state = current_env.state.copy()\n",
        "        new_env.apply_action(action)\n",
        "        frontier.append((path + [action],new_env))\n",
        "\n",
        "# DFS  \n",
        "  def searchDFS(self):\n",
        "    frontier = [([],self.env)]\n",
        "    while frontier:\n",
        "      path,current_env = frontier.pop()\n",
        "      if current_env.is_goal_state():\n",
        "        return path\n",
        "      for action in current_env.get_actions():\n",
        "        new_env = Environment()\n",
        "        new_env.state = current_env.state.copy()\n",
        "        new_env.apply_action(action)\n",
        "        frontier.append((path + [action],new_env))\n",
        "\n",
        "\n",
        "\n",
        "env = Environment()\n",
        "agent = Agent(env)\n",
        "solutionBFS = agent.searchBFS()\n",
        "solutionDFS = agent.searchDFS()\n",
        "print(solutionBFS)\n",
        "print(solutionDFS)"
      ],
      "metadata": {
        "colab": {
          "base_uri": "https://localhost:8080/"
        },
        "id": "1EukynYwZCXx",
        "outputId": "b998fae4-1c08-4564-8735-f51d4cec4f5a"
      },
      "execution_count": 8,
      "outputs": [
        {
          "output_type": "stream",
          "name": "stdout",
          "text": [
            "[(2, 3), (4, 2), (5, 4), (3, 5), (1, 3), (0, 1), (2, 0), (4, 2), (6, 4), (5, 6), (3, 5), (1, 3), (2, 1), (4, 2), (3, 4)]\n",
            "[(4, 3), (2, 4), (1, 2), (3, 1), (5, 3), (6, 5), (4, 6), (2, 4), (0, 2), (1, 0), (3, 1), (5, 3), (4, 5), (2, 4), (3, 2)]\n"
          ]
        }
      ]
    },
    {
      "cell_type": "markdown",
      "source": [
        "The only difference between BFS and DFS is, **BFS** use **queue** and remove tupple from **front** using **pop(0)** while **DFS** use **stack** and removes tupple from **end** using **pop()**."
      ],
      "metadata": {
        "id": "ELEabBFklrzK"
      }
    }
  ]
}