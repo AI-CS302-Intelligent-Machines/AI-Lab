{
  "nbformat": 4,
  "nbformat_minor": 0,
  "metadata": {
    "colab": {
      "provenance": []
    },
    "kernelspec": {
      "name": "python3",
      "display_name": "Python 3"
    },
    "language_info": {
      "name": "python"
    }
  },
  "cells": [
    {
      "cell_type": "markdown",
      "source": [
        "#Problem Statement:-\n",
        "###### The missionaries and cannibals problem is usually stated as follows. Three missionaries and three cannibals are on one side of a river, along with a boat that can hold one or two people. Find a way to get everyone to the other side without ever leaving a group of missionaries in one place outnumbered by the cannibals in that place. This problem is famous in AI because it was the subject of the first paper that approached problem-formulation from an analytical viewpoint.\n"
      ],
      "metadata": {
        "id": "6AeJiz5X-TNB"
      }
    },
    {
      "cell_type": "code",
      "source": [
        "from collections import deque\n",
        "\n",
        "class State:\n",
        "    def __init__(self, cannibals, missionaries, boat, parent=None):\n",
        "        self.cannibals = cannibals\n",
        "        self.missionaries = missionaries\n",
        "        self.boat = boat\n",
        "        self.parent = parent\n",
        "\n",
        "    def is_valid(self):\n",
        "        if self.missionaries < 0 or self.cannibals < 0 or self.missionaries > 3 or self.cannibals > 3:\n",
        "            return False\n",
        "        if self.missionaries == 0 or self.missionaries == 3:\n",
        "            return True\n",
        "        return self.missionaries >= self.cannibals\n",
        "\n",
        "    def __eq__(self, other):\n",
        "        return self.cannibals == other.cannibals and self.missionaries == other.missionaries and self.boat == other.boat\n",
        "\n",
        "    def __hash__(self):\n",
        "        return hash((self.cannibals, self.missionaries, self.boat))\n",
        "\n",
        "def bfs():\n",
        "    initial_state = State(3, 3, True)\n",
        "    goal_state = State(0, 0, False)\n",
        "    queue = deque([initial_state])\n",
        "    visited = set()\n",
        "    while queue:\n",
        "        current_state = queue.popleft()\n",
        "        if current_state == goal_state:\n",
        "            return get_path(current_state)\n",
        "        visited.add(current_state)\n",
        "        next_states = get_next_states(current_state)\n",
        "        for state in next_states:\n",
        "            if state not in visited:\n",
        "                queue.append(state)\n",
        "    return None\n",
        "\n",
        "def get_next_states(state):\n",
        "    next_states = []\n",
        "    if state.boat:\n",
        "        if state.is_valid():\n",
        "            next_states.append(State(state.cannibals - 2, state.missionaries, not state.boat, state))\n",
        "            next_states.append(State(state.cannibals - 1, state.missionaries - 1, not state.boat, state))\n",
        "            next_states.append(State(state.cannibals, state.missionaries - 2, not state.boat, state))\n",
        "            next_states.append(State(state.cannibals - 1, state.missionaries, not state.boat, state))\n",
        "            next_states.append(State(state.cannibals, state.missionaries - 1, not state.boat, state))\n",
        "    else:\n",
        "        if state.is_valid():\n",
        "            next_states.append(State(state.cannibals + 2, state.missionaries, not state.boat, state))\n",
        "            next_states.append(State(state.cannibals + 1, state.missionaries + 1, not state.boat,state))\n",
        "            next_states.append(State(state.cannibals,state.missionaries + 2 ,not state.boat,state))\n",
        "            next_states.append(State(state.cannibals + 1,state.missionaries ,not state.boat,state))\n",
        "            next_states.append(State(state.cannibals,state.missionaries + 1 ,not state.boat,state))\n",
        "    return [state for state in next_states if state.is_valid()]\n",
        "\n",
        "def get_path(state):\n",
        "    path = []\n",
        "    while state.parent is not None:\n",
        "        path.append((state.cannibals,state.missionaries,state.boat))\n",
        "        state = state.parent\n",
        "    path.reverse()\n",
        "    return path\n",
        "\n",
        "path = bfs()\n",
        "if path is None:\n",
        "    print(\"No solution found\")\n",
        "else:\n",
        "    for p in path:\n",
        "        print(p)"
      ],
      "metadata": {
        "colab": {
          "base_uri": "https://localhost:8080/"
        },
        "id": "S4B4xbbv-4-Z",
        "outputId": "07c03c83-a2be-4049-c445-7681cb130cf8"
      },
      "execution_count": null,
      "outputs": [
        {
          "output_type": "stream",
          "name": "stdout",
          "text": [
            "(1, 3, False)\n",
            "(2, 3, True)\n",
            "(0, 3, False)\n",
            "(1, 3, True)\n",
            "(0, 2, False)\n",
            "(1, 2, True)\n",
            "(0, 1, False)\n",
            "(1, 1, True)\n",
            "(0, 0, False)\n"
          ]
        }
      ]
    },
    {
      "cell_type": "markdown",
      "source": [
        "Here States shows number of cannibals and missionaries in the initial side of the river and true/fasle indicates if boat is present on the initial side of not."
      ],
      "metadata": {
        "id": "K6egJsHkGWFE"
      }
    }
  ]
}